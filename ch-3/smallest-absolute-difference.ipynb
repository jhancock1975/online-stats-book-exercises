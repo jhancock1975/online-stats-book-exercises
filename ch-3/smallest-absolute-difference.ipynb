{
 "cells": [
  {
   "cell_type": "markdown",
   "metadata": {},
   "source": [
    "We are answering questions in <cite data-cite=\"bibtex_lane2019online\">(Lane, 2019)</cite>"
   ]
  },
  {
   "cell_type": "markdown",
   "metadata": {},
   "source": [
    "The first question we answer is on how to find the smallest absolute difference for the set of numbers $S=\\left\\{2,3,4,9,16\\right\\}$"
   ]
  },
  {
   "cell_type": "code",
   "execution_count": 11,
   "metadata": {},
   "outputs": [
    {
     "name": "stdout",
     "output_type": "stream",
     "text": [
      "The number that gives the smallest absolute difference is 4.  The sum of absolute differences is 20.\n"
     ]
    }
   ],
   "source": [
    "s=[2,3,4,9,16]\n",
    "result=[]\n",
    "for i in range(10,1,-1):\n",
    "    sum=0\n",
    "    for j in s:\n",
    "        sum += abs(j-i)\n",
    "    result.append((i,sum))\n",
    "result.sort(key=lambda x: x[1])\n",
    "print(\"The number that gives the smallest absolute difference is %d.  The sum of absolute differences is %d.\" \n",
    "      % (result[0][0],result[0][1]))"
   ]
  },
  {
   "cell_type": "markdown",
   "metadata": {},
   "source": [
    "We can generalize the logic in the cell above into a that operates on a list of numbers.  Let us make the convention that we enumerate the elements $s_j \\in S$ starting with $0$, so if $S$ has three elements then $S=\\left\\{s_0,s_1,s_2\\right\\}.$  We know the number we should need to subtract from the elements of $s_j \\in S$ should be \n",
    "\\begin{equation}\n",
    "\\underset{i} {\\mathrm{argmin}} \\sum_{j=0}^{\\left|S\\right|-1} \\left|s_j-i\\right|.\n",
    "\\label{equ:argmin-1}\n",
    "\\end{equation}\n",
    "\n",
    "We do not claim this range to search is optimal, but we show that we can choose a range that is guaranteed to find the value of $i$ that minimizes the expression above.  Let $s_{\\text{max}}=\\text{max}\\left(S\\right)$ be the largest element in $S$, and let $s_{\\text{min}}=\\text{min}\\left(S\\right)$ be the smallest element in $S$.  Then the value of $i$ that satisfies equation \\ref{equ:argmin-1} is in the closed interval  $\\left[ s_{\\text{min}}, s_{\\text{max}} \\right].$ \n",
    "\n",
    "To see why this is so, if we use any number $k$ less than the smallest element $s_{\\text{min}}$ or greater than the largest element $s_{\\text{max}}$ then we are adding at least $\\left|s_{\\text{min}}-k\\right|$ or $\\left|s_{\\text{max}}-k\\right|$ unnecessarily to every term in the sum."
   ]
  },
  {
   "cell_type": "code",
   "execution_count": 12,
   "metadata": {},
   "outputs": [
    {
     "name": "stdout",
     "output_type": "stream",
     "text": [
      "4\n"
     ]
    }
   ],
   "source": [
    "def find_min_abs_diff_val(s):\n",
    "    \"\"\"\n",
    "    returns the integer that when subtracted from every element of s\n",
    "    gives the smallest sum of the absolute values of all the differences.\n",
    "    for clarification see the section titled, \"Smallest Absolute Deviation,\"\n",
    "    in http://onlinestatbook.com/2/summarizing_distributions/what_is_ct.html\n",
    "    \"\"\"\n",
    "    s.sort()\n",
    "    s_min=s[0]\n",
    "    s_max=s[len(s)-1]\n",
    "    result=[]\n",
    "    for i in range(s_min, s_max, 1):\n",
    "        sum=0\n",
    "        for j in s:\n",
    "            sum += abs(j-i)\n",
    "        result.append((i,sum))\n",
    "    result.sort(key=lambda x: x[1])\n",
    "    return result[0][0]\n",
    "\n",
    "print(find_min_abs_diff(s))"
   ]
  }
 ],
 "metadata": {
  "kernelspec": {
   "display_name": "Python 3",
   "language": "python",
   "name": "python3"
  },
  "language_info": {
   "codemirror_mode": {
    "name": "ipython",
    "version": 3
   },
   "file_extension": ".py",
   "mimetype": "text/x-python",
   "name": "python",
   "nbconvert_exporter": "python",
   "pygments_lexer": "ipython3",
   "version": "3.6.6"
  }
 },
 "nbformat": 4,
 "nbformat_minor": 2
}
